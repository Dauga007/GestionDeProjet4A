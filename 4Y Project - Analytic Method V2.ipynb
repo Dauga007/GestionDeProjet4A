{
 "cells": [
  {
   "cell_type": "markdown",
   "metadata": {},
   "source": [
    "# Geometrical form factor for LIDAR function"
   ]
  },
  {
   "cell_type": "markdown",
   "metadata": {},
   "source": [
    "La technologie LIDAR permet d'analyser les propriétés d'un objet ayant réfléchi la lumière lui ayant été projetée. Cette méthode nécessite un émetteur et un récepteur. Dans notre cas, un laser diffuse plusieurs rayons qui se réfléchiront sur un obstacle et seront récoltés par un téléscope."
   ]
  },
  {
   "cell_type": "markdown",
   "metadata": {},
   "source": [
    "Définissons les variables suivantes :\n",
    "- La distance considérée entre un obstacle et les deux appareils : $z$.\n",
    "- La distance entre le centre du faisceau laser et du télescope : $d$.\n",
    "- La focale de la lentille du télescope : $f$.\n",
    "- Le rayon initial du faisceau laser : $r_l$.\n",
    "- Le rayon initial du faisceau du télescope : $r_t$.\n",
    "- L'angle de diffusion formé autour du faisceau laser : $\\varphi_l$.\n",
    "- L'angle de diffusion formé autour du faisceau du télescope : $\\varphi_t$.\n",
    "- L'aire de recouvrement entre le faisceau laser et le faisceau du télescope : $\\mathcal{A}$.\n",
    "- Le facteur d'extinction : $\\alpha$.\n",
    "\n",
    "Définissons les fonctions $w_l$ et $w_t$ telles que :\n",
    "$$w_l : z \\mapsto w_l(z)$$\n",
    "$$w_t : z \\mapsto w_t(z)$$\n",
    "\n",
    "où $w_l(z)$ et $w_t(z)$ correspondent aux rayons respectifs du faisceau laser et du faisceau du télescope à la distance $z$."
   ]
  },
  {
   "cell_type": "code",
   "execution_count": 90,
   "metadata": {},
   "outputs": [],
   "source": [
    "import numpy as np\n",
    "import matplotlib.pyplot as plt"
   ]
  },
  {
   "cell_type": "markdown",
   "metadata": {},
   "source": [
    "## Functions"
   ]
  },
  {
   "cell_type": "markdown",
   "metadata": {},
   "source": [
    "### $\\phi$ - function"
   ]
  },
  {
   "cell_type": "code",
   "execution_count": 91,
   "metadata": {},
   "outputs": [],
   "source": [
    "def phi_function(r_1, r_2, d):\n",
    "    return np.arccos((r_1**2 + d**2 - r_2**2) / (2*d*r_1))"
   ]
  },
  {
   "cell_type": "markdown",
   "metadata": {},
   "source": [
    "### $\\chi$ - function"
   ]
  },
  {
   "cell_type": "code",
   "execution_count": 92,
   "metadata": {},
   "outputs": [],
   "source": [
    "def chi_function(r_1, r_2, d):\n",
    "    return ((r_1 + r_2)**2 - d**2) * (d**2 - (r_1 - r_2)**2)"
   ]
  },
  {
   "cell_type": "markdown",
   "metadata": {},
   "source": [
    "### $\\mathcal{A}$ - function"
   ]
  },
  {
   "cell_type": "code",
   "execution_count": 93,
   "metadata": {},
   "outputs": [],
   "source": [
    "def a_function(r_1, r_2, d): \n",
    "    c_1, c_2 = d > r_1 + r_2, d < np.abs(r_1 - r_2)\n",
    "    if c_1:\n",
    "        return 0\n",
    "    elif c_2:\n",
    "        return np.pi * np.minimum(r_1**2, r_2**2)\n",
    "    else:\n",
    "        phi_1, phi_2 = phi_function(r_1, r_2, d), phi_function(r_2, r_1, d)\n",
    "        chi = chi_function(r_1, r_2, d)\n",
    "        return phi_1 * r_1**2 + phi_2 * r_2**2 - 0.5 * np.sqrt(chi)"
   ]
  },
  {
   "cell_type": "markdown",
   "metadata": {},
   "source": [
    "### $w_l$ - function"
   ]
  },
  {
   "cell_type": "code",
   "execution_count": 94,
   "metadata": {},
   "outputs": [],
   "source": [
    "def w_laser_function(r_laser, phi_laser, z):\n",
    "    return r_laser + np.tan(phi_laser)*z"
   ]
  },
  {
   "cell_type": "markdown",
   "metadata": {},
   "source": [
    "### $w_t$ - function"
   ]
  },
  {
   "cell_type": "code",
   "execution_count": 95,
   "metadata": {},
   "outputs": [],
   "source": [
    "def w_telescope_function(r_telescope, phi_telescope, z):\n",
    "    return r_telescope + np.tan(phi_telescope)*z"
   ]
  },
  {
   "cell_type": "markdown",
   "metadata": {},
   "source": [
    "### $\\bar{r}$ - function"
   ]
  },
  {
   "cell_type": "code",
   "execution_count": 96,
   "metadata": {},
   "outputs": [],
   "source": [
    "def r_bar_function(r_laser, phi_laser, alpha, rho, z):\n",
    "    return np.maximum(w_laser_function(r_laser, phi_laser, z), alpha + rho)"
   ]
  },
  {
   "cell_type": "markdown",
   "metadata": {},
   "source": [
    "### $S$ - function"
   ]
  },
  {
   "cell_type": "code",
   "execution_count": 97,
   "metadata": {},
   "outputs": [],
   "source": [
    "def s_function(r_laser, phi_laser, alpha, rho, d, z):\n",
    "    w_laser = w_laser_function(r_laser, phi_laser, z)\n",
    "    r_bar = r_bar_function(r_laser, phi_laser, alpha, rho, z)\n",
    "    c_1, c_2 = alpha + rho < d - w_laser, w_laser + d < np.abs(alpha - rho)#, (w_laser >= np.abs(alpha - rho)) and (w_laser <= alpha + rho),\n",
    "    if c_1:\n",
    "        return 0\n",
    "    elif c_2:\n",
    "        return np.pi * w_laser**2 * np.minimum(alpha**2, rho**2)\n",
    "    else:\n",
    "        chi = chi_function(alpha, rho, d)\n",
    "        #chi = chi_function(alpha, rho, w_laser)\n",
    "        return r_bar**2 * a_function(alpha, rho, r_bar) + 0.25 * (r_bar**2 - alpha**2 - rho**2) * np.sqrt(chi) + (alpha*rho)**2 * np.arccos((alpha**2 + rho**2 - r_bar**2) / (2*alpha*rho))"
   ]
  },
  {
   "cell_type": "markdown",
   "metadata": {},
   "source": [
    "### $G_{FF}$ - function"
   ]
  },
  {
   "cell_type": "code",
   "execution_count": 98,
   "metadata": {},
   "outputs": [],
   "source": [
    "def gff_function(r_telescope, r_laser, phi_laser, alpha, d, b, z):\n",
    "    return (s_function(r_laser, phi_laser, alpha, r_telescope, d, z) - s_function(r_laser, phi_laser, alpha, b, d, z)) / w_laser_function(r_laser, phi_laser, z)**2"
   ]
  },
  {
   "cell_type": "markdown",
   "metadata": {},
   "source": [
    "## Results analysis"
   ]
  },
  {
   "cell_type": "markdown",
   "metadata": {},
   "source": [
    "### Overlap area"
   ]
  },
  {
   "cell_type": "code",
   "execution_count": 99,
   "metadata": {},
   "outputs": [
    {
     "data": {
      "image/png": "[encoded data removed]",
      "text/plain": [
       "<Figure size 432x288 with 1 Axes>"
      ]
     },
     "metadata": {
      "needs_background": "light"
     },
     "output_type": "display_data"
    }
   ],
   "source": [
    "r_telescope = 0.175\n",
    "r_laser = 0.01\n",
    "b = 0.04\n",
    "d = 0.22\n",
    "phi_laser = 5e-4\n",
    "phi_telescope = 7.5e-4\n",
    "\n",
    "n = 1000\n",
    "\n",
    "z = np.linspace(0.01, 500, n)\n",
    "\n",
    "w_laser, w_telescope = w_laser_function(r_laser, phi_laser, z), w_telescope_function(r_telescope, phi_telescope, z)\n",
    "\n",
    "t = np.linspace(0, 2*np.pi, n)\n",
    "\n",
    "x_telescope_first = w_telescope[0] * np.cos(t)\n",
    "y_telescope_first = w_telescope[0] * np.sin(t)\n",
    "x_telescope_last = w_telescope[-1] * np.cos(t)\n",
    "y_telescope_last = w_telescope[-1] * np.sin(t)\n",
    "x_telescope_centre, y_telescope_centre = 0, 0\n",
    "\n",
    "x_laser_first = d + w_laser[0] * np.cos(t)\n",
    "y_laser_first = w_laser[0] * np.sin(t)\n",
    "x_laser_last = d + w_laser[-1] * np.cos(t)\n",
    "y_laser_last = w_laser[-1] * np.sin(t)\n",
    "x_laser_centre, y_laser_centre = d, 0\n",
    "\n",
    "plt.figure()\n",
    "plt.plot(x_telescope_centre, y_telescope_centre, 'o', color = 'b')\n",
    "plt.plot(x_telescope_first, y_telescope_first, color = 'b', label = \"Telescope at $z =\" + str(int(z[0])) + \"$\")\n",
    "plt.plot(x_telescope_last, y_telescope_last, '--', color = 'b', label = \"Telescope at $z =\" + str(int(z[-1])) + \"$\")\n",
    "plt.plot(x_laser_centre, y_laser_centre, 'o', color = 'r')\n",
    "plt.plot(x_laser_first, y_laser_first, color = 'r', label = \"Laser at $z =\" + str(int(z[0])) + \"$\")\n",
    "plt.plot(x_laser_last, y_laser_last, '--', color = 'r', label = \"Laser at $z =\" + str(int(z[-1])) + \"$\")\n",
    "plt.axis('equal')\n",
    "plt.legend(loc = \"lower left\")\n",
    "plt.title(\"Overlap area display with $\\phi_t =\" + str(phi_telescope) + \"$, $\\phi_l =\" + str(phi_laser) + \"$ and $d =\" + str(d) + \"$\")\n",
    "plt.show()"
   ]
  },
  {
   "cell_type": "code",
   "execution_count": 100,
   "metadata": {},
   "outputs": [
    {
     "data": {
      "image/png": "[encoded data removed]",
      "text/plain": [
       "<Figure size 432x288 with 1 Axes>"
      ]
     },
     "metadata": {
      "needs_background": "light"
     },
     "output_type": "display_data"
    }
   ],
   "source": [
    "n = int(10e4)\n",
    "\n",
    "z = np.linspace(0.01, 10e3, n)\n",
    "\n",
    "phi_telescope_list = np.array([1e-4, 2.5e-4, 5e-4, 7.5e-4, 1e-3])\n",
    "\n",
    "plt.figure()\n",
    "for phi_telescope in phi_telescope_list:\n",
    "    w_laser, w_telescope = w_laser_function(r_laser, phi_laser, z), w_telescope_function(r_telescope, phi_telescope, z)\n",
    "    a = np.array([a_function(w_laser[k], w_telescope[k], d) for k in range(z.shape[0])])\n",
    "    plt.plot(z, a/(np.pi*w_laser**2), label = \"$\\phi_t =\" + str(phi_telescope) + \"$\")\n",
    "plt.xlabel(\"$z$\")\n",
    "plt.legend()\n",
    "plt.title(\"Overlap area ratio evolution for different $\\phi_t$ with $d =\" + str(d) + \"$\")\n",
    "plt.show()"
   ]
  },
  {
   "cell_type": "code",
   "execution_count": 101,
   "metadata": {},
   "outputs": [
    {
     "name": "stderr",
     "output_type": "stream",
     "text": [
      "<ipython-input-97-473689c190ab>:12: RuntimeWarning: invalid value encountered in sqrt\n",
      "  return r_bar**2 * a_function(alpha, rho, r_bar) + 0.25 * (r_bar**2 - alpha**2 - rho**2) * np.sqrt(chi) + (alpha*rho)**2 * np.arccos((alpha**2 + rho**2 - r_bar**2) / (2*alpha*rho))\n",
      "<ipython-input-91-073dee21d380>:2: RuntimeWarning: invalid value encountered in arccos\n",
      "  return np.arccos((r_1**2 + d**2 - r_2**2) / (2*d*r_1))\n",
      "<ipython-input-97-473689c190ab>:12: RuntimeWarning: invalid value encountered in arccos\n",
      "  return r_bar**2 * a_function(alpha, rho, r_bar) + 0.25 * (r_bar**2 - alpha**2 - rho**2) * np.sqrt(chi) + (alpha*rho)**2 * np.arccos((alpha**2 + rho**2 - r_bar**2) / (2*alpha*rho))\n"
     ]
    },
    {
     "data": {
      "image/png": "[encoded data removed]",
      "text/plain": [
       "<Figure size 432x288 with 1 Axes>"
      ]
     },
     "metadata": {
      "needs_background": "light"
     },
     "output_type": "display_data"
    }
   ],
   "source": [
    "n = int(1e4)\n",
    "z = np.linspace(0.01, 10e3, n)\n",
    "\n",
    "d = 0\n",
    "\n",
    "phi_telescope = 1e-3\n",
    "\n",
    "alpha = z*phi_telescope\n",
    "\n",
    "gff = np.array([gff_function(r_telescope, r_laser, phi_laser, alpha[k], d, b, z[k]) for k in range(z.shape[0])])\n",
    "\n",
    "plt.figure()\n",
    "plt.loglog(z, gff)\n",
    "plt.xlabel(\"$z$\")\n",
    "plt.show()"
   ]
  }
 ],
 "metadata": {
  "kernelspec": {
   "display_name": "Python 3",
   "language": "python",
   "name": "python3"
  },
  "language_info": {
   "codemirror_mode": {
    "name": "ipython",
    "version": 3
   },
   "file_extension": ".py",
   "mimetype": "text/x-python",
   "name": "python",
   "nbconvert_exporter": "python",
   "pygments_lexer": "ipython3",
   "version": "3.8.3"
  }
 },
 "nbformat": 4,
 "nbformat_minor": 4
}
